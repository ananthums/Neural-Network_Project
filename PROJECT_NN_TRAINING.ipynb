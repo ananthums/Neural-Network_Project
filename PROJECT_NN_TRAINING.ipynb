{
  "nbformat": 4,
  "nbformat_minor": 0,
  "metadata": {
    "colab": {
      "provenance": [],
      "collapsed_sections": []
    },
    "kernelspec": {
      "name": "python3",
      "display_name": "Python 3"
    },
    "language_info": {
      "name": "python"
    }
  },
  "cells": [
    {
      "cell_type": "code",
      "execution_count": null,
      "metadata": {
        "id": "I90ENMckl1L8"
      },
      "outputs": [],
      "source": [
        "pip install tensorflow"
      ]
    },
    {
      "cell_type": "code",
      "source": [
        "import numpy as np\n",
        "import math\n",
        "import matplotlib.pyplot as plt\n",
        "import random"
      ],
      "metadata": {
        "id": "YI05fthWl4_D"
      },
      "execution_count": null,
      "outputs": []
    },
    {
      "cell_type": "code",
      "source": [
        "import tensorflow as tf\n",
        "import os\n",
        "from tensorflow import keras\n",
        "from tensorflow.keras import layers\n",
        "#Dependencies\n",
        "import keras\n",
        "from keras.models import Sequential\n",
        "from keras.layers import Dense\n",
        " \n",
        "#sklearn.model_selection.train_test_split(*arrays, **options)\n",
        "from sklearn.model_selection import train_test_split\n",
        " \n",
        "from PIL import Image, ImageOps\n",
        "from keras.layers.convolutional import Conv2D"
      ],
      "metadata": {
        "id": "IRy_vp7El7sy"
      },
      "execution_count": null,
      "outputs": []
    },
    {
      "cell_type": "code",
      "source": [
        "from keras.preprocessing.image import ImageDataGenerator"
      ],
      "metadata": {
        "id": "1v8z2XF5l-o4"
      },
      "execution_count": null,
      "outputs": []
    },
    {
      "cell_type": "code",
      "source": [
        "#trial path\n",
        "from google.colab import drive\n",
        "drive.mount('/content/drive')\n",
        "fold = \"drive/My Drive/Colab Notebooks/TRIAL/\" \n",
        "import sys\n",
        "sys.path.insert(1, fold)\n",
        "\n",
        "trials= fold+'sample'#for this trail, I've put some ra and lines in thr trials folder... they're in their own folder within the trials folder"
      ],
      "metadata": {
        "id": "LY9tK-Q1mA5i"
      },
      "execution_count": null,
      "outputs": []
    },
    {
      "cell_type": "code",
      "source": [
        "batches = ImageDataGenerator().flow_from_directory(trials,color_mode=\"grayscale\",target_size = (15,15),classes = [\"rectangle\",\"line\",\"da\",\"ra\"], batch_size = 6) #steps per epoch is 264/6 = 44\n",
        "#https://keras.io/api/preprocessing/image/\n",
        "print(batches)"
      ],
      "metadata": {
        "id": "Tz2fcLkimLXb"
      },
      "execution_count": null,
      "outputs": []
    },
    {
      "cell_type": "code",
      "source": [
        "import numpy as np\n",
        "import matplotlib.pyplot as plt\n",
        "from sklearn.metrics import confusion_matrix\n",
        "import itertools"
      ],
      "metadata": {
        "id": "tRNDI_WdmN4F"
      },
      "execution_count": null,
      "outputs": []
    },
    {
      "cell_type": "code",
      "source": [
        "\n",
        "for folder in os.listdir(trials):\n",
        "  print(folder)\n",
        "#  if folder =='line':\n",
        "#    print(\"fadfds\")\n",
        "input = []\n",
        "output = []\n",
        "for folder in os.listdir(trials):\n",
        "  if folder == \"rectangle\":\n",
        "    for filename in os.listdir(trials+\"/\"+folder):\n",
        "      if filename.endswith(\".png\"):\n",
        "        img = Image.open(trials+\"/\"+folder+\"/\"+filename)\n",
        "        array1 = np.array(img).astype('uint8')\n",
        "        listform = np.concatenate(array1).ravel().tolist()#converts image into a list\n",
        "        input.append(listform)\n",
        "        output.append([1,0,0,0])               #1,0\n",
        "  elif folder == \"line\":\n",
        "    for filename in os.listdir(trials+\"/\"+folder):\n",
        "      if filename.endswith(\".png\"):\n",
        "        img = Image.open(trials+\"/\"+folder+\"/\"+filename)\n",
        "        array1 = np.array(img).astype('uint8')\n",
        "        listform = np.concatenate(array1).ravel().tolist()#converts image into a list\n",
        "        #print(listform)\n",
        "        input.append(listform)\n",
        "        output.append([0,1,0,0])                      #0,1\n",
        "  elif folder == \"da\":\n",
        "    for filename in os.listdir(trials+\"/\"+folder):\n",
        "      if filename.endswith(\".png\"):\n",
        "        img = Image.open(trials+\"/\"+folder+\"/\"+filename)\n",
        "        array1 = np.array(img).astype('uint8')\n",
        "        listform = np.concatenate(array1).ravel().tolist()#converts image into a list\n",
        "        #print(listform)\n",
        "        input.append(listform)\n",
        "        output.append([0,0,1,0])                      #0,1\n",
        "  elif folder == \"ra\":\n",
        "    for filename in os.listdir(trials+\"/\"+folder):\n",
        "      if filename.endswith(\".png\"):\n",
        "        img = Image.open(trials+\"/\"+folder+\"/\"+filename)\n",
        "        array1 = np.array(img).astype('uint8')\n",
        "        listform = np.concatenate(array1).ravel().tolist()#converts image into a list\n",
        "        #print(listform)\n",
        "        input.append(listform)\n",
        "        output.append([0,0,0,1])                      #0,1\n",
        "\n",
        "#print(input[:150])\n",
        "#print(output[:150])\n",
        "#print(len(input))\n",
        "#print(len(output))"
      ],
      "metadata": {
        "id": "6rIvOAOQmQHe"
      },
      "execution_count": null,
      "outputs": []
    },
    {
      "cell_type": "code",
      "source": [
        "x_train, x_test, y_train, y_test = train_test_split(input,output, test_size=0.25)\n",
        "print(x_train[:2])\n",
        "print(y_train[:2])\n",
        "print(x_test[:2])\n",
        "print(y_test[:2])\n",
        "print(len(x_train))"
      ],
      "metadata": {
        "id": "zKV4H-ZwmUDl"
      },
      "execution_count": null,
      "outputs": []
    },
    {
      "cell_type": "code",
      "source": [
        "\n",
        "\n",
        "\n",
        "r = tf.keras.layers.Dense(4,activation='softmax',use_bias=False)#for this trial, we're using just 2 outputs.. line and ra\n",
        "model = Sequential()\n",
        "model.add(Dense(100, input_dim=225, activation='relu',use_bias=False))\n",
        "#model.add(Dense(65,activation='relu',use_bias=False))\n",
        "model.add(Dense(40,activation='relu',use_bias=False))\n",
        "model.add(Dense(10,activation='relu',use_bias=False))\n",
        "#model.add(Dense(10,activation='relu',use_bias=False))\n",
        "#model.add(Dense(10,activation='relu',use_bias=False))\n",
        "model.add(r)\n",
        "model.summary()"
      ],
      "metadata": {
        "id": "ur-8kwzsmT5w"
      },
      "execution_count": null,
      "outputs": []
    },
    {
      "cell_type": "code",
      "source": [
        "#compile(\n",
        "#    optimizer='rmsprop', loss=None, metrics=None, loss_weights=None,\n",
        "#    weighted_metrics=None, run_eagerly=None, **kwargs\n",
        "#)\n",
        "opt = tf.keras.optimizers.Adam(learning_rate=0.0001)\n",
        "model.compile(loss='categorical_crossentropy',optimizer=opt,metrics = ['accuracy'])"
      ],
      "metadata": {
        "id": "mDsW604amcV_"
      },
      "execution_count": null,
      "outputs": []
    },
    {
      "cell_type": "code",
      "source": [
        "#model  #steps per epoch....no. of batches\n",
        "model.fit(x_train, y_train, epochs=100, batch_size=20, validation_data=(x_test,y_test))"
      ],
      "metadata": {
        "id": "KjU_u2JxmfUJ"
      },
      "execution_count": null,
      "outputs": []
    },
    {
      "cell_type": "code",
      "source": [
        "p = x_test[1000]\n",
        "p1 = y_test[1000]\n",
        "print(p)\n",
        "print(p1)\n",
        "sw = model.predict([p])\n",
        "print(sw)\n"
      ],
      "metadata": {
        "id": "TYoVjDWemhy9"
      },
      "execution_count": null,
      "outputs": []
    },
    {
      "cell_type": "code",
      "source": [
        "weights=[]\n",
        "biases=[]\n",
        "for layer in model.layers:\n",
        "    weight = layer.get_weights()[0]\n",
        "    #bias = layer.get_weights()[1] \n",
        "    weights.append(weight)\n",
        "    #biases.append(bias)\n",
        "\n",
        "\n",
        "\n",
        "\n",
        "print(weights)\n",
        "#print(biases)\n",
        "#print(biases[0])\n",
        "\n"
      ],
      "metadata": {
        "id": "ur-fSP1omlSq"
      },
      "execution_count": null,
      "outputs": []
    }
  ]
}