{
  "nbformat": 4,
  "nbformat_minor": 0,
  "metadata": {
    "colab": {
      "provenance": []
    },
    "kernelspec": {
      "name": "python3",
      "display_name": "Python 3"
    },
    "language_info": {
      "name": "python"
    }
  },
  "cells": [
    {
      "cell_type": "code",
      "execution_count": null,
      "metadata": {
        "id": "qkS_c_nXjuIZ"
      },
      "outputs": [],
      "source": [
        "from google.colab import drive\n",
        "drive.mount('/content/drive')\n",
        "fold = \"drive/My Drive/Colab Notebooks/smtdatatrials2/line2/\"\n",
        "import sys\n",
        "sys.path.insert(1, fold)"
      ]
    },
    {
      "cell_type": "code",
      "source": [
        "import math \n",
        "from PIL import Image, ImageDraw \n",
        "import os\n",
        "from PIL import Image, ImageOps\n",
        "import numpy as np\n",
        "from pathlib import Path"
      ],
      "metadata": {
        "id": "DSzJrMEwj5bM"
      },
      "execution_count": null,
      "outputs": []
    },
    {
      "cell_type": "code",
      "source": [
        "w, h = 15, 15\n",
        "shape = [(0,0), (15, 2)] \n",
        "img = Image.new(\"RGB\", (w, h)) \n",
        "img1 = ImageDraw.Draw(img)   \n",
        "img1.line(shape, fill =\"white\", width = 0) \n",
        "display(img)"
      ],
      "metadata": {
        "id": "LB171xy1j8MH"
      },
      "execution_count": null,
      "outputs": []
    },
    {
      "cell_type": "code",
      "source": [
        "#we're only allowing purely diagonal lines, or flat/top-bottom\n",
        "counter=0\n",
        "\n",
        "# given two points.. connect them. condition.. the first point is above the second... i.e y coordinate of 1 is less than y coordinate of 2\n",
        "w, h = 15, 15\n",
        "\n",
        "for i in range(0,15):\n",
        "  for j in range(0,15):#will say that thing needs to be at least 8 pixels long tobe considered a line(has to take approx half the box to register as a line)\n",
        "    for i1 in range(0,15):\n",
        "      for j1 in range(j,15):\n",
        "        if ((j1<j+8) and (i1>=i+8 or i>=i1+8)) or (j1>=j+8): #ensuring the size\n",
        "          shape = [(i,j),(i1,j1)]\n",
        "          img = Image.new(\"RGB\", (w, h)) \n",
        "          img1 = ImageDraw.Draw(img)\n",
        "          img1.line(shape, fill =\"white\", width = 0)\n",
        "          i0 = str(i)\n",
        "          j0 = str(j)\n",
        "          i10 = str(i1)\n",
        "          j10 = str(j1)          \n",
        "          \n",
        "          img2 = ImageOps.grayscale(img)\n",
        "          img2.save(fold+\"line_p1_\" +i0+\"_\"+j0+\"_p2_\"+ i10 +\"_\"+j10 +\".png\",format=\"png\")\n",
        "          counter=counter+1\n",
        "print(counter)"
      ],
      "metadata": {
        "id": "cx48RHz0kCN8"
      },
      "execution_count": null,
      "outputs": []
    },
    {
      "cell_type": "code",
      "source": [
        "for filename in os.listdir(fold):\n",
        "    if filename.endswith(\".png\"):\n",
        "        #print(os.path.join(fold, filename))\n",
        "        #print(filename)          #............................. . jpg included\n",
        "        \n",
        "        \n",
        "        p = Image.open(os.path.join(fold, filename))           #p is the image\n",
        "\n",
        "        invert = ImageOps.invert(p)          #........invert colors\n",
        "        #invert = ImageOps.grayscale(invert1)              \n",
        "        invert.save(fold+\"inverted_\"+filename,format=\"png\")\n",
        "    else:\n",
        "        continue"
      ],
      "metadata": {
        "id": "7gTWTasFkGfw"
      },
      "execution_count": null,
      "outputs": []
    }
  ]
}