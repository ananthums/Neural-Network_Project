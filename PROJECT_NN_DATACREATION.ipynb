{
  "nbformat": 4,
  "nbformat_minor": 0,
  "metadata": {
    "colab": {
      "provenance": []
    },
    "kernelspec": {
      "name": "python3",
      "display_name": "Python 3"
    },
    "language_info": {
      "name": "python"
    }
  },
  "cells": [
    {
      "cell_type": "code",
      "execution_count": null,
      "metadata": {
        "id": "HqMBS6ItiAZH"
      },
      "outputs": [],
      "source": [
        "pip install pillow"
      ]
    },
    {
      "cell_type": "code",
      "source": [
        "from google.colab import drive\n",
        "drive.mount(\"/content/drive\", force_remount=True)\n",
        "fold = \"drive/My Drive/Colab Notebooks/smtdatatrials2/RA/\"\n",
        "#fold = \"drive/My Drive/Colab Notebooks/smtdatatrials2/GA/\"\n",
        "import sys\n",
        "sys.path.insert(1, fold)"
      ],
      "metadata": {
        "id": "QKQ5ul-bis3l"
      },
      "execution_count": null,
      "outputs": []
    },
    {
      "cell_type": "code",
      "source": [
        "import os\n",
        "from PIL import Image, ImageOps\n",
        "import numpy as np\n",
        "from pathlib import Path"
      ],
      "metadata": {
        "id": "qKNqTXgGivTm"
      },
      "execution_count": null,
      "outputs": []
    },
    {
      "cell_type": "code",
      "source": [
        "for filename in os.listdir(fold):\n",
        "    if filename.endswith(\".jpg\"):\n",
        "        #print(os.path.join(fold, filename))\n",
        "        #print(filename)          #............................. . jpg included\n",
        "        \n",
        "        \n",
        "        p1 = Image.open(os.path.join(fold, filename))           #p is the image\n",
        "        #display(p) \n",
        "        p = ImageOps.grayscale(p1)\n",
        "\n",
        "        invert1 = ImageOps.invert(p)          #........invert colors\n",
        "        invert = ImageOps.grayscale(invert1)\n",
        "\n",
        "        r_90 = p.rotate(90)                  #...........note: rotates counter clockwise\n",
        "\n",
        "        r_180 = p.rotate(180)           #................afdfdsafdsf\n",
        "\n",
        "        r_270 = p.rotate(270)                #.............fdfdasfdsfsdaf\n",
        "\n",
        "        inv_90 = invert.rotate(90)\n",
        "        inv_180 = invert.rotate(180)\n",
        "        inv_270 = invert.rotate(270)\n",
        "\n",
        "        \n",
        "        \n",
        "        \n",
        "        invert.save(fold+\"inverted_\"+filename)\n",
        "        r_90.save(fold+\"rotated_90_\"+filename)\n",
        "        r_180.save(fold+\"rotated_180_\"+filename)\n",
        "        r_270.save(fold+\"rotated_270_\"+filename)\n",
        "        inv_90.save(fold+\"inverted_rotated_90_\"+filename)\n",
        "        inv_180.save(fold+\"inverted_rotated_180_\"+filename)\n",
        "        inv_270.save(fold+\"inverted_rotated_270_\"+filename)\n",
        "    else:\n",
        "        continue"
      ],
      "metadata": {
        "id": "oJt97Iifi4M9"
      },
      "execution_count": null,
      "outputs": []
    }
  ]
}